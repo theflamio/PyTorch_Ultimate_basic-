{
 "cells": [
  {
   "cell_type": "markdown",
   "metadata": {
    "pycharm": {
     "name": "#%% md\n"
    }
   },
   "source": [
    "# PyTorch Ultimate course by Bert Gollnick\n",
    "\n",
    "What is PyTorch ?\n",
    "\n",
    "1. Deep learning framework\n",
    "2. Primarily developed by Facebook\n",
    "3. backed by Python\n",
    "4. open source\n",
    "5. allows to develop complex neural networks easily\n",
    "6. all fields of Deep learning is covered\n",
    "    1. Regression and Classification\n",
    "    2. Computer Vision (CNN)\n",
    "    3. Recurrent Neural Networks\n",
    "    4. Natural Language Processing (NLP)\n",
    "    5. Reinforcement Learning (RL)\n",
    "\n",
    "## Why use PyTorch ?\n",
    "\n",
    "Simple for beginners\n",
    "\n",
    "1. great documentation\n",
    "2. Large community\n",
    "3. Neatly integrates with Python programming\n",
    "\n",
    "## Productivity\n",
    "\n",
    "1. works with Windows, Linux and Mac\n",
    "2. support GPU's and CPU's\n",
    "3. parallel computations is possible\n",
    "4. easy to debug"
   ]
  },
  {
   "cell_type": "code",
   "execution_count": null,
   "metadata": {
    "pycharm": {
     "name": "#%%\n"
    }
   },
   "outputs": [],
   "source": []
  }
 ],
 "metadata": {
  "kernelspec": {
   "display_name": "Python 3.7.5 64-bit",
   "language": "python",
   "name": "python3"
  },
  "language_info": {
   "name": "python",
   "version": "3.7.5"
  },
  "orig_nbformat": 4,
  "vscode": {
   "interpreter": {
    "hash": "b6eedb56dca6111caaa68f138ed35133f6b4229691bfa1f7ad993cd7f35c3dce"
   }
  }
 },
 "nbformat": 4,
 "nbformat_minor": 2
}